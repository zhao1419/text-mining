{
 "cells": [
  {
   "cell_type": "code",
   "execution_count": 1,
   "metadata": {},
   "outputs": [],
   "source": [
    "def read_data(filename):\n",
    "    with open(filename, 'r',encoding='utf-8') as f:\n",
    "        data = [line.split('\\t') for line in f.read().splitlines()]\n",
    "        data = data[1:]\n",
    "    return data"
   ]
  },
  {
   "cell_type": "code",
   "execution_count": 2,
   "metadata": {},
   "outputs": [
    {
     "name": "stdout",
     "output_type": "stream",
     "text": [
      "150000\n"
     ]
    },
    {
     "data": {
      "text/plain": [
       "[['9976970', '아 더빙.. 진짜 짜증나네요 목소리', '0'],\n",
       " ['3819312', '흠...포스터보고 초딩영화줄....오버연기조차 가볍지 않구나', '1'],\n",
       " ['10265843', '너무재밓었다그래서보는것을추천한다', '0'],\n",
       " ['9045019', '교도소 이야기구먼 ..솔직히 재미는 없다..평점 조정', '0'],\n",
       " ['6483659',\n",
       "  '사이몬페그의 익살스런 연기가 돋보였던 영화!스파이더맨에서 늙어보이기만 했던 커스틴 던스트가 너무나도 이뻐보였다',\n",
       "  '1']]"
      ]
     },
     "execution_count": 2,
     "metadata": {},
     "output_type": "execute_result"
    }
   ],
   "source": [
    "train_data = read_data('ratings_train.txt')\n",
    "print(len(train_data))\n",
    "train_data[:5]"
   ]
  },
  {
   "cell_type": "code",
   "execution_count": 3,
   "metadata": {},
   "outputs": [
    {
     "name": "stdout",
     "output_type": "stream",
     "text": [
      "50000\n"
     ]
    },
    {
     "data": {
      "text/plain": [
       "[['6270596', '굳 ㅋ', '1'],\n",
       " ['9274899', 'GDNTOPCLASSINTHECLUB', '0'],\n",
       " ['8544678', '뭐야 이 평점들은.... 나쁘진 않지만 10점 짜리는 더더욱 아니잖아', '0'],\n",
       " ['6825595', '지루하지는 않은데 완전 막장임... 돈주고 보기에는....', '0'],\n",
       " ['6723715', '3D만 아니었어도 별 다섯 개 줬을텐데.. 왜 3D로 나와서 제 심기를 불편하게 하죠??', '0']]"
      ]
     },
     "execution_count": 3,
     "metadata": {},
     "output_type": "execute_result"
    }
   ],
   "source": [
    "test_data = read_data('ratings_test.txt')\n",
    "print(len(test_data))\n",
    "test_data[:5]"
   ]
  },
  {
   "cell_type": "code",
   "execution_count": 4,
   "metadata": {},
   "outputs": [],
   "source": [
    "import konlpy"
   ]
  },
  {
   "cell_type": "code",
   "execution_count": 5,
   "metadata": {},
   "outputs": [],
   "source": [
    "from konlpy.tag import Okt"
   ]
  },
  {
   "cell_type": "code",
   "execution_count": 6,
   "metadata": {},
   "outputs": [],
   "source": [
    "okt=Okt()"
   ]
  },
  {
   "cell_type": "code",
   "execution_count": 7,
   "metadata": {},
   "outputs": [],
   "source": [
    "import json\n",
    "import os\n",
    "\n",
    "def tokenize(doc):\n",
    "    return['/'.join(t) for t in okt.pos(doc, norm=True, stem=True)]"
   ]
  },
  {
   "cell_type": "code",
   "execution_count": 8,
   "metadata": {},
   "outputs": [],
   "source": [
    "train_docs = [(tokenize(row[1]), row[2]) for row in train_data]\n",
    "test_docs = [(tokenize(row[1]), row[2]) for row in test_data]\n",
    "with open('train_docs.json', 'w',encoding='utf-8') as make_file:\n",
    "    json.dump(train_docs, make_file, indent='\\t', ensure_ascii=False)# json.dump 写入。  json.load 读取\n",
    "with open('test_docs.json', 'w',encoding='utf-8') as make_file:\n",
    "    json.dump(test_docs, make_file, indent='\\t', ensure_ascii=False)"
   ]
  },
  {
   "cell_type": "markdown",
   "metadata": {},
   "source": [
    "if os.path.isfile('train_docs.json'):\n",
    "    with open('train_docs.json') as f:\n",
    "        train_docs = json.load(f)\n",
    "    with open('test_docs.json') as f:\n",
    "        test_docs = json.load(f)\n",
    "else:\n",
    "    train_docs = [(tokenize(row[1]), row[2]) for row in train_data]\n",
    "    test_docs = [(tokenize(row[1]), row[2]) for row in train_data]\n",
    "    with open('train_docs.json', 'w',encoding='utf-8') as make_file:\n",
    "        json.dump(train_docs, make_file, indent='\\t', ensure_ascii=False)\n",
    "    with open('test_docs.json', 'w',encoding='utf-8') as make_file:\n",
    "        json.dump(test_docs, make_file, indent='\\t', ensure_ascii=False)"
   ]
  },
  {
   "cell_type": "code",
   "execution_count": 9,
   "metadata": {},
   "outputs": [
    {
     "data": {
      "text/plain": [
       "(['아/Exclamation',\n",
       "  '더빙/Noun',\n",
       "  '../Punctuation',\n",
       "  '진짜/Noun',\n",
       "  '짜증나다/Adjective',\n",
       "  '목소리/Noun'],\n",
       " '0')"
      ]
     },
     "execution_count": 9,
     "metadata": {},
     "output_type": "execute_result"
    }
   ],
   "source": [
    "train_docs[0]"
   ]
  },
  {
   "cell_type": "code",
   "execution_count": 10,
   "metadata": {},
   "outputs": [
    {
     "data": {
      "text/plain": [
       "2159921"
      ]
     },
     "execution_count": 10,
     "metadata": {},
     "output_type": "execute_result"
    }
   ],
   "source": [
    "tokens = [t for d in train_docs for t in d[0]]\n",
    "len(tokens)"
   ]
  },
  {
   "cell_type": "code",
   "execution_count": 11,
   "metadata": {},
   "outputs": [
    {
     "data": {
      "text/plain": [
       "<Text: NMSC>"
      ]
     },
     "execution_count": 11,
     "metadata": {},
     "output_type": "execute_result"
    }
   ],
   "source": [
    "import nltk\n",
    "text = nltk.Text(tokens, name='NMSC')\n",
    "text"
   ]
  },
  {
   "cell_type": "code",
   "execution_count": 12,
   "metadata": {},
   "outputs": [
    {
     "data": {
      "text/plain": [
       "2159921"
      ]
     },
     "execution_count": 12,
     "metadata": {},
     "output_type": "execute_result"
    }
   ],
   "source": [
    "len(text.tokens)"
   ]
  },
  {
   "cell_type": "code",
   "execution_count": 13,
   "metadata": {},
   "outputs": [
    {
     "data": {
      "text/plain": [
       "49895"
      ]
     },
     "execution_count": 13,
     "metadata": {},
     "output_type": "execute_result"
    }
   ],
   "source": [
    "len(set(text.tokens))"
   ]
  },
  {
   "cell_type": "code",
   "execution_count": 14,
   "metadata": {},
   "outputs": [
    {
     "data": {
      "text/plain": [
       "[('./Punctuation', 67778),\n",
       " ('영화/Noun', 50818),\n",
       " ('하다/Verb', 41209),\n",
       " ('이/Josa', 38540),\n",
       " ('보다/Verb', 38538),\n",
       " ('의/Josa', 30188),\n",
       " ('../Punctuation', 29055),\n",
       " ('가/Josa', 26627),\n",
       " ('에/Josa', 26468),\n",
       " ('을/Josa', 23118),\n",
       " ('.../Punctuation', 22795),\n",
       " ('도/Josa', 20037),\n",
       " ('은/Josa', 18435),\n",
       " ('들/Suffix', 18101),\n",
       " (',/Punctuation', 17643),\n",
       " ('는/Josa', 16819),\n",
       " ('없다/Adjective', 15635),\n",
       " ('를/Josa', 15632),\n",
       " ('있다/Adjective', 12496),\n",
       " ('좋다/Adjective', 12154),\n",
       " ('너무/Adverb', 11158),\n",
       " ('?/Punctuation', 11051),\n",
       " ('이/Determiner', 10928),\n",
       " ('재밌다/Adjective', 10410),\n",
       " ('정말/Noun', 9658),\n",
       " ('것/Noun', 9359),\n",
       " ('되다/Verb', 8867),\n",
       " ('!/Punctuation', 8421),\n",
       " ('진짜/Noun', 8358),\n",
       " ('같다/Adjective', 8347),\n",
       " ('적/Suffix', 8254),\n",
       " ('으로/Josa', 8029),\n",
       " ('이/Noun', 8001),\n",
       " ('점/Noun', 7932),\n",
       " ('아니다/Adjective', 7818),\n",
       " ('않다/Verb', 7723),\n",
       " ('로/Josa', 6997),\n",
       " ('에서/Josa', 6980),\n",
       " ('만/Josa', 6775),\n",
       " ('만들다/Verb', 6497),\n",
       " ('연기/Noun', 6434),\n",
       " ('나오다/Verb', 6410),\n",
       " ('평점/Noun', 6324),\n",
       " ('과/Josa', 6131),\n",
       " ('최고/Noun', 6005),\n",
       " ('~/Punctuation', 5999),\n",
       " ('한/Josa', 5860),\n",
       " ('이다/Verb', 5642),\n",
       " ('왜/Noun', 5388),\n",
       " ('스토리/Noun', 5351)]"
      ]
     },
     "execution_count": 14,
     "metadata": {},
     "output_type": "execute_result"
    }
   ],
   "source": [
    "text.vocab().most_common(50)"
   ]
  },
  {
   "cell_type": "code",
   "execution_count": 15,
   "metadata": {},
   "outputs": [],
   "source": [
    "import matplotlib.pyplot as plt\n",
    "from matplotlib import font_manager, rc"
   ]
  },
  {
   "cell_type": "code",
   "execution_count": 16,
   "metadata": {},
   "outputs": [],
   "source": [
    "font_fname = 'c:\\windows\\Fonts\\gulim.ttc'\n",
    "font_name = font_manager.FontProperties(fname=font_fname).get_name()\n",
    "rc('font', family=font_name)"
   ]
  },
  {
   "cell_type": "code",
   "execution_count": 17,
   "metadata": {},
   "outputs": [
    {
     "data": {
      "image/png": "[encoded data removed]",
      "text/plain": [
       "<Figure size 1440x720 with 1 Axes>"
      ]
     },
     "metadata": {
      "needs_background": "light"
     },
     "output_type": "display_data"
    }
   ],
   "source": [
    "plt.figure(figsize=(20, 10))\n",
    "text.plot(50)"
   ]
  },
  {
   "cell_type": "code",
   "execution_count": 18,
   "metadata": {},
   "outputs": [],
   "source": [
    "feq_count = 100\n",
    "selected_word = [f[0] for f in text.vocab().most_common(feq_count)]"
   ]
  },
  {
   "cell_type": "code",
   "execution_count": 19,
   "metadata": {},
   "outputs": [],
   "source": [
    "def term_feq(doc):\n",
    "    return [doc.count(word) for word in selected_word]"
   ]
  },
  {
   "cell_type": "code",
   "execution_count": 20,
   "metadata": {},
   "outputs": [],
   "source": [
    "train_x = [term_feq(d) for d, _ in train_docs]"
   ]
  },
  {
   "cell_type": "code",
   "execution_count": 21,
   "metadata": {},
   "outputs": [
    {
     "data": {
      "text/plain": [
       "[0,\n",
       " 0,\n",
       " 0,\n",
       " 0,\n",
       " 0,\n",
       " 0,\n",
       " 1,\n",
       " 0,\n",
       " 0,\n",
       " 0,\n",
       " 0,\n",
       " 0,\n",
       " 0,\n",
       " 0,\n",
       " 0,\n",
       " 0,\n",
       " 0,\n",
       " 0,\n",
       " 0,\n",
       " 0,\n",
       " 0,\n",
       " 0,\n",
       " 0,\n",
       " 0,\n",
       " 0,\n",
       " 0,\n",
       " 0,\n",
       " 0,\n",
       " 1,\n",
       " 0,\n",
       " 0,\n",
       " 0,\n",
       " 0,\n",
       " 0,\n",
       " 0,\n",
       " 0,\n",
       " 0,\n",
       " 0,\n",
       " 0,\n",
       " 0,\n",
       " 0,\n",
       " 0,\n",
       " 0,\n",
       " 0,\n",
       " 0,\n",
       " 0,\n",
       " 0,\n",
       " 0,\n",
       " 0,\n",
       " 0,\n",
       " 0,\n",
       " 0,\n",
       " 0,\n",
       " 0,\n",
       " 0,\n",
       " 0,\n",
       " 0,\n",
       " 0,\n",
       " 0,\n",
       " 0,\n",
       " 0,\n",
       " 0,\n",
       " 0,\n",
       " 0,\n",
       " 0,\n",
       " 0,\n",
       " 0,\n",
       " 0,\n",
       " 0,\n",
       " 0,\n",
       " 0,\n",
       " 0,\n",
       " 0,\n",
       " 0,\n",
       " 0,\n",
       " 0,\n",
       " 0,\n",
       " 0,\n",
       " 0,\n",
       " 0,\n",
       " 0,\n",
       " 0,\n",
       " 0,\n",
       " 0,\n",
       " 0,\n",
       " 0,\n",
       " 0,\n",
       " 0,\n",
       " 0,\n",
       " 0,\n",
       " 0,\n",
       " 0,\n",
       " 0,\n",
       " 0,\n",
       " 0,\n",
       " 0,\n",
       " 0,\n",
       " 0,\n",
       " 0,\n",
       " 0]"
      ]
     },
     "execution_count": 21,
     "metadata": {},
     "output_type": "execute_result"
    }
   ],
   "source": [
    "train_x[0]"
   ]
  },
  {
   "cell_type": "code",
   "execution_count": 22,
   "metadata": {},
   "outputs": [
    {
     "data": {
      "text/plain": [
       "['0', '1', '0', '0', '1']"
      ]
     },
     "execution_count": 22,
     "metadata": {},
     "output_type": "execute_result"
    }
   ],
   "source": [
    "train_y = [c for _, c in train_docs]\n",
    "train_y[:5]"
   ]
  },
  {
   "cell_type": "code",
   "execution_count": 23,
   "metadata": {},
   "outputs": [],
   "source": [
    "test_x = [term_feq(d) for d, _ in test_docs]\n",
    "test_y = [c for _, c in test_docs]"
   ]
  },
  {
   "cell_type": "code",
   "execution_count": 24,
   "metadata": {},
   "outputs": [],
   "source": [
    "import numpy as np"
   ]
  },
  {
   "cell_type": "code",
   "execution_count": 25,
   "metadata": {},
   "outputs": [],
   "source": [
    "x_train = np.asarray(train_x).astype('float32')\n",
    "x_test = np.asarray(test_x).astype('float32')"
   ]
  },
  {
   "cell_type": "code",
   "execution_count": 26,
   "metadata": {},
   "outputs": [
    {
     "data": {
      "text/plain": [
       "array([0., 0., 0., 0., 0., 0., 1., 0., 0., 0., 0., 0., 0., 0., 0., 0., 0.,\n",
       "       0., 0., 0., 0., 0., 0., 0., 0., 0., 0., 0., 1., 0., 0., 0., 0., 0.,\n",
       "       0., 0., 0., 0., 0., 0., 0., 0., 0., 0., 0., 0., 0., 0., 0., 0., 0.,\n",
       "       0., 0., 0., 0., 0., 0., 0., 0., 0., 0., 0., 0., 0., 0., 0., 0., 0.,\n",
       "       0., 0., 0., 0., 0., 0., 0., 0., 0., 0., 0., 0., 0., 0., 0., 0., 0.,\n",
       "       0., 0., 0., 0., 0., 0., 0., 0., 0., 0., 0., 0., 0., 0., 0.],\n",
       "      dtype=float32)"
      ]
     },
     "execution_count": 26,
     "metadata": {},
     "output_type": "execute_result"
    }
   ],
   "source": [
    "x_train[0]"
   ]
  },
  {
   "cell_type": "code",
   "execution_count": 27,
   "metadata": {},
   "outputs": [],
   "source": [
    "y_train = np.asarray(train_y).astype('float32')\n",
    "y_test = np.asarray(test_y).astype('float32')"
   ]
  },
  {
   "cell_type": "markdown",
   "metadata": {},
   "source": [
    "### 딥러닝으로 감성분석"
   ]
  },
  {
   "cell_type": "code",
   "execution_count": 28,
   "metadata": {},
   "outputs": [
    {
     "name": "stdout",
     "output_type": "stream",
     "text": [
      "Requirement already satisfied: tensorflow in c:\\users\\41184\\anaconda3\\lib\\site-packages (2.4.1)\n",
      "Requirement already satisfied: tensorflow-estimator<2.5.0,>=2.4.0 in c:\\users\\41184\\anaconda3\\lib\\site-packages (from tensorflow) (2.4.0)\n",
      "Requirement already satisfied: protobuf>=3.9.2 in c:\\users\\41184\\anaconda3\\lib\\site-packages (from tensorflow) (3.14.0)\n",
      "Requirement already satisfied: grpcio~=1.32.0 in c:\\users\\41184\\anaconda3\\lib\\site-packages (from tensorflow) (1.32.0)\n",
      "Requirement already satisfied: flatbuffers~=1.12.0 in c:\\users\\41184\\anaconda3\\lib\\site-packages (from tensorflow) (1.12)\n",
      "Requirement already satisfied: astunparse~=1.6.3 in c:\\users\\41184\\anaconda3\\lib\\site-packages (from tensorflow) (1.6.3)\n",
      "Requirement already satisfied: wheel~=0.35 in c:\\users\\41184\\anaconda3\\lib\\site-packages (from tensorflow) (0.35.1)\n",
      "Requirement already satisfied: gast==0.3.3 in c:\\users\\41184\\anaconda3\\lib\\site-packages (from tensorflow) (0.3.3)\n",
      "Requirement already satisfied: tensorboard~=2.4 in c:\\users\\41184\\anaconda3\\lib\\site-packages (from tensorflow) (2.5.0)\n",
      "Requirement already satisfied: opt-einsum~=3.3.0 in c:\\users\\41184\\anaconda3\\lib\\site-packages (from tensorflow) (3.3.0)\n",
      "Requirement already satisfied: six~=1.15.0 in c:\\users\\41184\\anaconda3\\lib\\site-packages (from tensorflow) (1.15.0)\n",
      "Requirement already satisfied: numpy~=1.19.2 in c:\\users\\41184\\anaconda3\\lib\\site-packages (from tensorflow) (1.19.2)\n",
      "Requirement already satisfied: wrapt~=1.12.1 in c:\\users\\41184\\anaconda3\\lib\\site-packages (from tensorflow) (1.12.1)\n",
      "Requirement already satisfied: google-pasta~=0.2 in c:\\users\\41184\\anaconda3\\lib\\site-packages (from tensorflow) (0.2.0)\n",
      "Requirement already satisfied: h5py~=2.10.0 in c:\\users\\41184\\anaconda3\\lib\\site-packages (from tensorflow) (2.10.0)\n",
      "Requirement already satisfied: termcolor~=1.1.0 in c:\\users\\41184\\anaconda3\\lib\\site-packages (from tensorflow) (1.1.0)\n",
      "Requirement already satisfied: typing-extensions~=3.7.4 in c:\\users\\41184\\anaconda3\\lib\\site-packages (from tensorflow) (3.7.4.3)\n",
      "Requirement already satisfied: absl-py~=0.10 in c:\\users\\41184\\anaconda3\\lib\\site-packages (from tensorflow) (0.12.0)\n",
      "Requirement already satisfied: keras-preprocessing~=1.1.2 in c:\\users\\41184\\anaconda3\\lib\\site-packages (from tensorflow) (1.1.2)\n",
      "Requirement already satisfied: google-auth-oauthlib<0.5,>=0.4.1 in c:\\users\\41184\\anaconda3\\lib\\site-packages (from tensorboard~=2.4->tensorflow) (0.4.4)\n",
      "Requirement already satisfied: google-auth<2,>=1.6.3 in c:\\users\\41184\\anaconda3\\lib\\site-packages (from tensorboard~=2.4->tensorflow) (1.28.0)\n",
      "Requirement already satisfied: markdown>=2.6.8 in c:\\users\\41184\\anaconda3\\lib\\site-packages (from tensorboard~=2.4->tensorflow) (3.3.4)\n",
      "Requirement already satisfied: requests<3,>=2.21.0 in c:\\users\\41184\\anaconda3\\lib\\site-packages (from tensorboard~=2.4->tensorflow) (2.24.0)\n",
      "Requirement already satisfied: werkzeug>=0.11.15 in c:\\users\\41184\\anaconda3\\lib\\site-packages (from tensorboard~=2.4->tensorflow) (1.0.1)\n",
      "Requirement already satisfied: tensorboard-data-server<0.7.0,>=0.6.0 in c:\\users\\41184\\anaconda3\\lib\\site-packages (from tensorboard~=2.4->tensorflow) (0.6.0)\n",
      "Requirement already satisfied: tensorboard-plugin-wit>=1.6.0 in c:\\users\\41184\\anaconda3\\lib\\site-packages (from tensorboard~=2.4->tensorflow) (1.8.0)\n",
      "Requirement already satisfied: setuptools>=41.0.0 in c:\\users\\41184\\anaconda3\\lib\\site-packages (from tensorboard~=2.4->tensorflow) (50.3.1.post20201107)\n",
      "Requirement already satisfied: requests-oauthlib>=0.7.0 in c:\\users\\41184\\anaconda3\\lib\\site-packages (from google-auth-oauthlib<0.5,>=0.4.1->tensorboard~=2.4->tensorflow) (1.3.0)\n",
      "Requirement already satisfied: cachetools<5.0,>=2.0.0 in c:\\users\\41184\\anaconda3\\lib\\site-packages (from google-auth<2,>=1.6.3->tensorboard~=2.4->tensorflow) (4.2.1)\n",
      "Requirement already satisfied: rsa<5,>=3.1.4; python_version >= \"3.6\" in c:\\users\\41184\\anaconda3\\lib\\site-packages (from google-auth<2,>=1.6.3->tensorboard~=2.4->tensorflow) (4.7.2)\n",
      "Requirement already satisfied: pyasn1-modules>=0.2.1 in c:\\users\\41184\\anaconda3\\lib\\site-packages (from google-auth<2,>=1.6.3->tensorboard~=2.4->tensorflow) (0.2.8)\n",
      "Requirement already satisfied: chardet<4,>=3.0.2 in c:\\users\\41184\\anaconda3\\lib\\site-packages (from requests<3,>=2.21.0->tensorboard~=2.4->tensorflow) (3.0.4)\n",
      "Requirement already satisfied: urllib3!=1.25.0,!=1.25.1,<1.26,>=1.21.1 in c:\\users\\41184\\anaconda3\\lib\\site-packages (from requests<3,>=2.21.0->tensorboard~=2.4->tensorflow) (1.25.11)\n",
      "Requirement already satisfied: idna<3,>=2.5 in c:\\users\\41184\\anaconda3\\lib\\site-packages (from requests<3,>=2.21.0->tensorboard~=2.4->tensorflow) (2.10)\n",
      "Requirement already satisfied: certifi>=2017.4.17 in c:\\users\\41184\\anaconda3\\lib\\site-packages (from requests<3,>=2.21.0->tensorboard~=2.4->tensorflow) (2020.6.20)\n",
      "Requirement already satisfied: oauthlib>=3.0.0 in c:\\users\\41184\\anaconda3\\lib\\site-packages (from requests-oauthlib>=0.7.0->google-auth-oauthlib<0.5,>=0.4.1->tensorboard~=2.4->tensorflow) (3.1.0)\n",
      "Requirement already satisfied: pyasn1>=0.1.3 in c:\\users\\41184\\anaconda3\\lib\\site-packages (from rsa<5,>=3.1.4; python_version >= \"3.6\"->google-auth<2,>=1.6.3->tensorboard~=2.4->tensorflow) (0.4.8)\n"
     ]
    }
   ],
   "source": [
    "!pip install tensorflow"
   ]
  },
  {
   "cell_type": "code",
   "execution_count": 29,
   "metadata": {},
   "outputs": [
    {
     "name": "stdout",
     "output_type": "stream",
     "text": [
      "Requirement already satisfied: keras in c:\\users\\41184\\anaconda3\\lib\\site-packages (2.4.3)\n",
      "Requirement already satisfied: scipy>=0.14 in c:\\users\\41184\\anaconda3\\lib\\site-packages (from keras) (1.5.2)\n",
      "Requirement already satisfied: h5py in c:\\users\\41184\\anaconda3\\lib\\site-packages (from keras) (2.10.0)\n",
      "Requirement already satisfied: numpy>=1.9.1 in c:\\users\\41184\\anaconda3\\lib\\site-packages (from keras) (1.19.2)\n",
      "Requirement already satisfied: pyyaml in c:\\users\\41184\\anaconda3\\lib\\site-packages (from keras) (5.3.1)\n",
      "Requirement already satisfied: six in c:\\users\\41184\\anaconda3\\lib\\site-packages (from h5py->keras) (1.15.0)\n"
     ]
    }
   ],
   "source": [
    "!pip install keras"
   ]
  },
  {
   "cell_type": "code",
   "execution_count": 30,
   "metadata": {},
   "outputs": [],
   "source": [
    "import tensorflow"
   ]
  },
  {
   "cell_type": "code",
   "execution_count": 31,
   "metadata": {},
   "outputs": [],
   "source": [
    "from tensorflow.keras import models, layers, optimizers, losses,metrics"
   ]
  },
  {
   "cell_type": "code",
   "execution_count": 32,
   "metadata": {},
   "outputs": [],
   "source": [
    "model = models.Sequential()\n",
    "model.add(layers.Dense(64, activation='relu', input_shape=(feq_count,)))\n",
    "model.add(layers.Dense(64, activation='relu'))\n",
    "model.add(layers.Dense(1, activation='sigmoid'))"
   ]
  },
  {
   "cell_type": "code",
   "execution_count": 33,
   "metadata": {},
   "outputs": [],
   "source": [
    "model.compile(optimizer=optimizers.RMSprop(lr=0.001),\n",
    "             loss=losses.binary_crossentropy,\n",
    "             metrics=[metrics.binary_accuracy])"
   ]
  },
  {
   "cell_type": "code",
   "execution_count": 34,
   "metadata": {},
   "outputs": [
    {
     "name": "stdout",
     "output_type": "stream",
     "text": [
      "Epoch 1/10\n",
      "293/293 [==============================] - 3s 2ms/step - loss: 0.5969 - binary_accuracy: 0.6712\n",
      "Epoch 2/10\n",
      "293/293 [==============================] - 0s 666us/step - loss: 0.5331 - binary_accuracy: 0.7113\n",
      "Epoch 3/10\n",
      "293/293 [==============================] - 0s 656us/step - loss: 0.5219 - binary_accuracy: 0.7202\n",
      "Epoch 4/10\n",
      "293/293 [==============================] - 0s 666us/step - loss: 0.5176 - binary_accuracy: 0.7218\n",
      "Epoch 5/10\n",
      "293/293 [==============================] - 0s 659us/step - loss: 0.5119 - binary_accuracy: 0.7247\n",
      "Epoch 6/10\n",
      "293/293 [==============================] - 0s 659us/step - loss: 0.5048 - binary_accuracy: 0.7311\n",
      "Epoch 7/10\n",
      "293/293 [==============================] - 0s 656us/step - loss: 0.5015 - binary_accuracy: 0.7339\n",
      "Epoch 8/10\n",
      "293/293 [==============================] - 0s 669us/step - loss: 0.5041 - binary_accuracy: 0.7304\n",
      "Epoch 9/10\n",
      "293/293 [==============================] - 0s 693us/step - loss: 0.5006 - binary_accuracy: 0.7337\n",
      "Epoch 10/10\n",
      "293/293 [==============================] - 0s 656us/step - loss: 0.4951 - binary_accuracy: 0.7365\n"
     ]
    },
    {
     "data": {
      "text/plain": [
       "<tensorflow.python.keras.callbacks.History at 0x1b9cbbeb6d0>"
      ]
     },
     "execution_count": 34,
     "metadata": {},
     "output_type": "execute_result"
    }
   ],
   "source": [
    "model.fit(x_train, y_train, epochs=10, batch_size=512)"
   ]
  },
  {
   "cell_type": "code",
   "execution_count": 121,
   "metadata": {},
   "outputs": [
    {
     "name": "stdout",
     "output_type": "stream",
     "text": [
      "1563/1563 [==============================] - 1s 320us/step - loss: 0.5205 - binary_accuracy: 0.7178\n"
     ]
    },
    {
     "data": {
      "text/plain": [
       "[0.5205246210098267, 0.7178199887275696]"
      ]
     },
     "execution_count": 121,
     "metadata": {},
     "output_type": "execute_result"
    }
   ],
   "source": [
    "model.evaluate(x_test, y_test)"
   ]
  },
  {
   "cell_type": "code",
   "execution_count": 122,
   "metadata": {},
   "outputs": [],
   "source": [
    "model.save('movie_review_model.h5')"
   ]
  },
  {
   "cell_type": "code",
   "execution_count": 137,
   "metadata": {},
   "outputs": [],
   "source": [
    "s=[]\n",
    "def predict_pos_neg(review):\n",
    "    token = tokenize(review)\n",
    "    tf = term_feq(token)\n",
    "    data = np.expand_dims(np.asarray(tf).astype('float32'), axis=0)\n",
    "    score = float(model.predict(data))\n",
    "    s.append(score)\n",
    "    \n",
    "    #if(score > 0.5):\n",
    "        #print(\"[{}]는 {:.2f}%의 확률로 긍정리뷰네요!\".format(review,score*100))\n",
    "    #else:\n",
    "        #print(\"[{}]는 {:.2f}%의 확률로 부정리뷰네요!\".format(review,(1-score)*100))"
   ]
  },
  {
   "cell_type": "code",
   "execution_count": 138,
   "metadata": {},
   "outputs": [],
   "source": [
    "predict_pos_neg(\"그루밍 할때 깨물깨물저희 둘째가 그루밍을 할때\\n혀로 빗고 털을 앙앙앙 깨물깨물 하\")"
   ]
  },
  {
   "cell_type": "code",
   "execution_count": 139,
   "metadata": {},
   "outputs": [],
   "source": [
    "import pandas as pd\n",
    "from datetime import datetime\n",
    "import numpy as np\n",
    "import scipy as sp\n",
    "import sklearn\n",
    "import sys"
   ]
  },
  {
   "cell_type": "code",
   "execution_count": 140,
   "metadata": {
    "scrolled": false
   },
   "outputs": [
    {
     "data": {
      "text/html": [
       "<div>\n",
       "<style scoped>\n",
       "    .dataframe tbody tr th:only-of-type {\n",
       "        vertical-align: middle;\n",
       "    }\n",
       "\n",
       "    .dataframe tbody tr th {\n",
       "        vertical-align: top;\n",
       "    }\n",
       "\n",
       "    .dataframe thead th {\n",
       "        text-align: right;\n",
       "    }\n",
       "</style>\n",
       "<table border=\"1\" class=\"dataframe\">\n",
       "  <thead>\n",
       "    <tr style=\"text-align: right;\">\n",
       "      <th></th>\n",
       "      <th>df_sum</th>\n",
       "      <th>comments_sum</th>\n",
       "    </tr>\n",
       "  </thead>\n",
       "  <tbody>\n",
       "    <tr>\n",
       "      <th>0</th>\n",
       "      <td>그루밍 할때 깨물깨물저희 둘째가 그루밍을 할때\\n혀로 빗고 털을 앙앙앙 깨물깨물 하...</td>\n",
       "      <td>NoneNoneNoneNoneNoneNoneNoneNoneNoneNoneNoneNo...</td>\n",
       "    </tr>\n",
       "    <tr>\n",
       "      <th>1</th>\n",
       "      <td>고양이 토 색좀 봐주세요 ㅠㅠ오늘 퇴근하고 털같은걸 토했길래 상황을 지켜봤는데 잘 ...</td>\n",
       "      <td>NoneNoneNoneNoneNoneNoneNoneNoneNoneNoneNoneNo...</td>\n",
       "    </tr>\n",
       "    <tr>\n",
       "      <th>2</th>\n",
       "      <td>다들 냥이들 보통 얼마나 자나요?저희 냥이가 길에서 살다가 약 2주 전부터 저희 집...</td>\n",
       "      <td>NoneNoneNoneNoneNoneNoneNoneNoneNoneNoneNoneNo...</td>\n",
       "    </tr>\n",
       "    <tr>\n",
       "      <th>3</th>\n",
       "      <td>제가 식중독 걸렸는데 애기 괜찮을까요 ㅜㅜ식중독은 처음 걸려보네요 ㅜㅜ\\n고양이랑 ...</td>\n",
       "      <td>NoneNoneNoneNoneNoneNoneNoneNoneNoneNoneNoneNo...</td>\n",
       "    </tr>\n",
       "    <tr>\n",
       "      <th>4</th>\n",
       "      <td>고양이 귀염증 잘아시는분ㅠ..5마리 집사입니당 그중 한마리 고양이 귀 염증이 심하길...</td>\n",
       "      <td>['자이목스 블루 써보세요 \\n좀 비싸지만 효과는 좋아요']['가격이 사악하긴하네욤...</td>\n",
       "    </tr>\n",
       "    <tr>\n",
       "      <th>...</th>\n",
       "      <td>...</td>\n",
       "      <td>...</td>\n",
       "    </tr>\n",
       "    <tr>\n",
       "      <th>42376</th>\n",
       "      <td>편백나무액 냥이들에게 괜찮을까요?캣초딩 두마리 집사에요^^\\n편백나무액을 구매했는데...</td>\n",
       "      <td>['백합은 사람한테도 위험한 식물이기도 해요~']['저 타고양이카페에서 받은거에요!...</td>\n",
       "    </tr>\n",
       "    <tr>\n",
       "      <th>42377</th>\n",
       "      <td>마당냥이 때문에 고민이 많습니다지난 여름부터 사료나 간식을 챙겨주던 냥이가 잇었는데...</td>\n",
       "      <td>['공쥬님. 마니걱정되시는거 그맘알것같아요.\\n젤좋은건 포획하셔서 중성화해주시구.\\...</td>\n",
       "    </tr>\n",
       "    <tr>\n",
       "      <th>42378</th>\n",
       "      <td>놀다가 털썩 눕는행동 ? 4개월아가인데 사냥놀이하다가 갑자기 저렇게 털썩 누워요 \\...</td>\n",
       "      <td>['나름 노는행동아닐까여^^\\n저희냥이도 그래여~^^;\\n전 저희냥이가 캣초딩아니고...</td>\n",
       "    </tr>\n",
       "    <tr>\n",
       "      <th>42379</th>\n",
       "      <td>숨숨집, 캣타워 전혀 사용을 안해요. ㅜㅜ4개월 아깽이 입니다... 캣타워 숨숨집 ...</td>\n",
       "      <td>['아요~~이뻐라\\n좀 지나면 쓸거예요']['과연... 언제부터 쓸까요.. ㅜㅜ  ...</td>\n",
       "    </tr>\n",
       "    <tr>\n",
       "      <th>42380</th>\n",
       "      <td>외동묘인데 캣폴 괜찮을까요?[]</td>\n",
       "      <td>NaN</td>\n",
       "    </tr>\n",
       "  </tbody>\n",
       "</table>\n",
       "<p>42381 rows × 2 columns</p>\n",
       "</div>"
      ],
      "text/plain": [
       "                                                  df_sum  \\\n",
       "0      그루밍 할때 깨물깨물저희 둘째가 그루밍을 할때\\n혀로 빗고 털을 앙앙앙 깨물깨물 하...   \n",
       "1      고양이 토 색좀 봐주세요 ㅠㅠ오늘 퇴근하고 털같은걸 토했길래 상황을 지켜봤는데 잘 ...   \n",
       "2      다들 냥이들 보통 얼마나 자나요?저희 냥이가 길에서 살다가 약 2주 전부터 저희 집...   \n",
       "3      제가 식중독 걸렸는데 애기 괜찮을까요 ㅜㅜ식중독은 처음 걸려보네요 ㅜㅜ\\n고양이랑 ...   \n",
       "4      고양이 귀염증 잘아시는분ㅠ..5마리 집사입니당 그중 한마리 고양이 귀 염증이 심하길...   \n",
       "...                                                  ...   \n",
       "42376  편백나무액 냥이들에게 괜찮을까요?캣초딩 두마리 집사에요^^\\n편백나무액을 구매했는데...   \n",
       "42377  마당냥이 때문에 고민이 많습니다지난 여름부터 사료나 간식을 챙겨주던 냥이가 잇었는데...   \n",
       "42378  놀다가 털썩 눕는행동 ? 4개월아가인데 사냥놀이하다가 갑자기 저렇게 털썩 누워요 \\...   \n",
       "42379  숨숨집, 캣타워 전혀 사용을 안해요. ㅜㅜ4개월 아깽이 입니다... 캣타워 숨숨집 ...   \n",
       "42380                                  외동묘인데 캣폴 괜찮을까요?[]   \n",
       "\n",
       "                                            comments_sum  \n",
       "0      NoneNoneNoneNoneNoneNoneNoneNoneNoneNoneNoneNo...  \n",
       "1      NoneNoneNoneNoneNoneNoneNoneNoneNoneNoneNoneNo...  \n",
       "2      NoneNoneNoneNoneNoneNoneNoneNoneNoneNoneNoneNo...  \n",
       "3      NoneNoneNoneNoneNoneNoneNoneNoneNoneNoneNoneNo...  \n",
       "4      ['자이목스 블루 써보세요 \\n좀 비싸지만 효과는 좋아요']['가격이 사악하긴하네욤...  \n",
       "...                                                  ...  \n",
       "42376  ['백합은 사람한테도 위험한 식물이기도 해요~']['저 타고양이카페에서 받은거에요!...  \n",
       "42377  ['공쥬님. 마니걱정되시는거 그맘알것같아요.\\n젤좋은건 포획하셔서 중성화해주시구.\\...  \n",
       "42378  ['나름 노는행동아닐까여^^\\n저희냥이도 그래여~^^;\\n전 저희냥이가 캣초딩아니고...  \n",
       "42379  ['아요~~이뻐라\\n좀 지나면 쓸거예요']['과연... 언제부터 쓸까요.. ㅜㅜ  ...  \n",
       "42380                                                NaN  \n",
       "\n",
       "[42381 rows x 2 columns]"
      ]
     },
     "execution_count": 140,
     "metadata": {},
     "output_type": "execute_result"
    }
   ],
   "source": [
    "df=pd.read_csv('카폐 크롤링 질문40000.csv')\n",
    "df"
   ]
  },
  {
   "cell_type": "code",
   "execution_count": 141,
   "metadata": {},
   "outputs": [
    {
     "data": {
      "text/html": [
       "<div>\n",
       "<style scoped>\n",
       "    .dataframe tbody tr th:only-of-type {\n",
       "        vertical-align: middle;\n",
       "    }\n",
       "\n",
       "    .dataframe tbody tr th {\n",
       "        vertical-align: top;\n",
       "    }\n",
       "\n",
       "    .dataframe thead th {\n",
       "        text-align: right;\n",
       "    }\n",
       "</style>\n",
       "<table border=\"1\" class=\"dataframe\">\n",
       "  <thead>\n",
       "    <tr style=\"text-align: right;\">\n",
       "      <th></th>\n",
       "      <th>df_sum</th>\n",
       "    </tr>\n",
       "  </thead>\n",
       "  <tbody>\n",
       "    <tr>\n",
       "      <th>0</th>\n",
       "      <td>None</td>\n",
       "    </tr>\n",
       "    <tr>\n",
       "      <th>1</th>\n",
       "      <td>None</td>\n",
       "    </tr>\n",
       "    <tr>\n",
       "      <th>2</th>\n",
       "      <td>None</td>\n",
       "    </tr>\n",
       "    <tr>\n",
       "      <th>3</th>\n",
       "      <td>None</td>\n",
       "    </tr>\n",
       "    <tr>\n",
       "      <th>4</th>\n",
       "      <td>None</td>\n",
       "    </tr>\n",
       "    <tr>\n",
       "      <th>...</th>\n",
       "      <td>...</td>\n",
       "    </tr>\n",
       "    <tr>\n",
       "      <th>42376</th>\n",
       "      <td>None</td>\n",
       "    </tr>\n",
       "    <tr>\n",
       "      <th>42377</th>\n",
       "      <td>None</td>\n",
       "    </tr>\n",
       "    <tr>\n",
       "      <th>42378</th>\n",
       "      <td>None</td>\n",
       "    </tr>\n",
       "    <tr>\n",
       "      <th>42379</th>\n",
       "      <td>None</td>\n",
       "    </tr>\n",
       "    <tr>\n",
       "      <th>42380</th>\n",
       "      <td>None</td>\n",
       "    </tr>\n",
       "  </tbody>\n",
       "</table>\n",
       "<p>42381 rows × 1 columns</p>\n",
       "</div>"
      ],
      "text/plain": [
       "      df_sum\n",
       "0       None\n",
       "1       None\n",
       "2       None\n",
       "3       None\n",
       "4       None\n",
       "...      ...\n",
       "42376   None\n",
       "42377   None\n",
       "42378   None\n",
       "42379   None\n",
       "42380   None\n",
       "\n",
       "[42381 rows x 1 columns]"
      ]
     },
     "execution_count": 141,
     "metadata": {},
     "output_type": "execute_result"
    }
   ],
   "source": [
    "pd.DataFrame(df.df_sum.apply(lambda x: predict_pos_neg(x)))\n",
    "#DataFrame.apply() 函数会遍历每一个元素，对元素运行指定的 function。"
   ]
  },
  {
   "cell_type": "code",
   "execution_count": 143,
   "metadata": {
    "scrolled": true
   },
   "outputs": [
    {
     "data": {
      "text/html": [
       "<div>\n",
       "<style scoped>\n",
       "    .dataframe tbody tr th:only-of-type {\n",
       "        vertical-align: middle;\n",
       "    }\n",
       "\n",
       "    .dataframe tbody tr th {\n",
       "        vertical-align: top;\n",
       "    }\n",
       "\n",
       "    .dataframe thead th {\n",
       "        text-align: right;\n",
       "    }\n",
       "</style>\n",
       "<table border=\"1\" class=\"dataframe\">\n",
       "  <thead>\n",
       "    <tr style=\"text-align: right;\">\n",
       "      <th></th>\n",
       "      <th>0</th>\n",
       "    </tr>\n",
       "  </thead>\n",
       "  <tbody>\n",
       "    <tr>\n",
       "      <th>0</th>\n",
       "      <td>0.605103</td>\n",
       "    </tr>\n",
       "    <tr>\n",
       "      <th>1</th>\n",
       "      <td>0.380732</td>\n",
       "    </tr>\n",
       "    <tr>\n",
       "      <th>2</th>\n",
       "      <td>0.153810</td>\n",
       "    </tr>\n",
       "    <tr>\n",
       "      <th>3</th>\n",
       "      <td>0.443952</td>\n",
       "    </tr>\n",
       "    <tr>\n",
       "      <th>4</th>\n",
       "      <td>0.371014</td>\n",
       "    </tr>\n",
       "    <tr>\n",
       "      <th>...</th>\n",
       "      <td>...</td>\n",
       "    </tr>\n",
       "    <tr>\n",
       "      <th>42377</th>\n",
       "      <td>0.891357</td>\n",
       "    </tr>\n",
       "    <tr>\n",
       "      <th>42378</th>\n",
       "      <td>0.278893</td>\n",
       "    </tr>\n",
       "    <tr>\n",
       "      <th>42379</th>\n",
       "      <td>0.138038</td>\n",
       "    </tr>\n",
       "    <tr>\n",
       "      <th>42380</th>\n",
       "      <td>0.347263</td>\n",
       "    </tr>\n",
       "    <tr>\n",
       "      <th>42381</th>\n",
       "      <td>0.538273</td>\n",
       "    </tr>\n",
       "  </tbody>\n",
       "</table>\n",
       "<p>42382 rows × 1 columns</p>\n",
       "</div>"
      ],
      "text/plain": [
       "              0\n",
       "0      0.605103\n",
       "1      0.380732\n",
       "2      0.153810\n",
       "3      0.443952\n",
       "4      0.371014\n",
       "...         ...\n",
       "42377  0.891357\n",
       "42378  0.278893\n",
       "42379  0.138038\n",
       "42380  0.347263\n",
       "42381  0.538273\n",
       "\n",
       "[42382 rows x 1 columns]"
      ]
     },
     "execution_count": 143,
     "metadata": {},
     "output_type": "execute_result"
    }
   ],
   "source": [
    "sentiment = pd.DataFrame(s)\n",
    "sentiment"
   ]
  },
  {
   "cell_type": "code",
   "execution_count": 196,
   "metadata": {},
   "outputs": [
    {
     "data": {
      "text/html": [
       "<div>\n",
       "<style scoped>\n",
       "    .dataframe tbody tr th:only-of-type {\n",
       "        vertical-align: middle;\n",
       "    }\n",
       "\n",
       "    .dataframe tbody tr th {\n",
       "        vertical-align: top;\n",
       "    }\n",
       "\n",
       "    .dataframe thead th {\n",
       "        text-align: right;\n",
       "    }\n",
       "</style>\n",
       "<table border=\"1\" class=\"dataframe\">\n",
       "  <thead>\n",
       "    <tr style=\"text-align: right;\">\n",
       "      <th></th>\n",
       "      <th>df_sum</th>\n",
       "      <th>comments_sum</th>\n",
       "    </tr>\n",
       "  </thead>\n",
       "  <tbody>\n",
       "    <tr>\n",
       "      <th>0</th>\n",
       "      <td>그루밍 할때 깨물깨물저희 둘째가 그루밍을 할때\\n혀로 빗고 털을 앙앙앙 깨물깨물 하...</td>\n",
       "      <td>NoneNoneNoneNoneNoneNoneNoneNoneNoneNoneNoneNo...</td>\n",
       "    </tr>\n",
       "    <tr>\n",
       "      <th>1</th>\n",
       "      <td>고양이 토 색좀 봐주세요 ㅠㅠ오늘 퇴근하고 털같은걸 토했길래 상황을 지켜봤는데 잘 ...</td>\n",
       "      <td>NoneNoneNoneNoneNoneNoneNoneNoneNoneNoneNoneNo...</td>\n",
       "    </tr>\n",
       "    <tr>\n",
       "      <th>2</th>\n",
       "      <td>다들 냥이들 보통 얼마나 자나요?저희 냥이가 길에서 살다가 약 2주 전부터 저희 집...</td>\n",
       "      <td>NoneNoneNoneNoneNoneNoneNoneNoneNoneNoneNoneNo...</td>\n",
       "    </tr>\n",
       "    <tr>\n",
       "      <th>3</th>\n",
       "      <td>제가 식중독 걸렸는데 애기 괜찮을까요 ㅜㅜ식중독은 처음 걸려보네요 ㅜㅜ\\n고양이랑 ...</td>\n",
       "      <td>NoneNoneNoneNoneNoneNoneNoneNoneNoneNoneNoneNo...</td>\n",
       "    </tr>\n",
       "    <tr>\n",
       "      <th>4</th>\n",
       "      <td>고양이 귀염증 잘아시는분ㅠ..5마리 집사입니당 그중 한마리 고양이 귀 염증이 심하길...</td>\n",
       "      <td>['자이목스 블루 써보세요 \\n좀 비싸지만 효과는 좋아요']['가격이 사악하긴하네욤...</td>\n",
       "    </tr>\n",
       "    <tr>\n",
       "      <th>...</th>\n",
       "      <td>...</td>\n",
       "      <td>...</td>\n",
       "    </tr>\n",
       "    <tr>\n",
       "      <th>42376</th>\n",
       "      <td>편백나무액 냥이들에게 괜찮을까요?캣초딩 두마리 집사에요^^\\n편백나무액을 구매했는데...</td>\n",
       "      <td>['백합은 사람한테도 위험한 식물이기도 해요~']['저 타고양이카페에서 받은거에요!...</td>\n",
       "    </tr>\n",
       "    <tr>\n",
       "      <th>42377</th>\n",
       "      <td>마당냥이 때문에 고민이 많습니다지난 여름부터 사료나 간식을 챙겨주던 냥이가 잇었는데...</td>\n",
       "      <td>['공쥬님. 마니걱정되시는거 그맘알것같아요.\\n젤좋은건 포획하셔서 중성화해주시구.\\...</td>\n",
       "    </tr>\n",
       "    <tr>\n",
       "      <th>42378</th>\n",
       "      <td>놀다가 털썩 눕는행동 ? 4개월아가인데 사냥놀이하다가 갑자기 저렇게 털썩 누워요 \\...</td>\n",
       "      <td>['나름 노는행동아닐까여^^\\n저희냥이도 그래여~^^;\\n전 저희냥이가 캣초딩아니고...</td>\n",
       "    </tr>\n",
       "    <tr>\n",
       "      <th>42379</th>\n",
       "      <td>숨숨집, 캣타워 전혀 사용을 안해요. ㅜㅜ4개월 아깽이 입니다... 캣타워 숨숨집 ...</td>\n",
       "      <td>['아요~~이뻐라\\n좀 지나면 쓸거예요']['과연... 언제부터 쓸까요.. ㅜㅜ  ...</td>\n",
       "    </tr>\n",
       "    <tr>\n",
       "      <th>42380</th>\n",
       "      <td>외동묘인데 캣폴 괜찮을까요?[]</td>\n",
       "      <td>NaN</td>\n",
       "    </tr>\n",
       "  </tbody>\n",
       "</table>\n",
       "<p>42381 rows × 2 columns</p>\n",
       "</div>"
      ],
      "text/plain": [
       "                                                  df_sum  \\\n",
       "0      그루밍 할때 깨물깨물저희 둘째가 그루밍을 할때\\n혀로 빗고 털을 앙앙앙 깨물깨물 하...   \n",
       "1      고양이 토 색좀 봐주세요 ㅠㅠ오늘 퇴근하고 털같은걸 토했길래 상황을 지켜봤는데 잘 ...   \n",
       "2      다들 냥이들 보통 얼마나 자나요?저희 냥이가 길에서 살다가 약 2주 전부터 저희 집...   \n",
       "3      제가 식중독 걸렸는데 애기 괜찮을까요 ㅜㅜ식중독은 처음 걸려보네요 ㅜㅜ\\n고양이랑 ...   \n",
       "4      고양이 귀염증 잘아시는분ㅠ..5마리 집사입니당 그중 한마리 고양이 귀 염증이 심하길...   \n",
       "...                                                  ...   \n",
       "42376  편백나무액 냥이들에게 괜찮을까요?캣초딩 두마리 집사에요^^\\n편백나무액을 구매했는데...   \n",
       "42377  마당냥이 때문에 고민이 많습니다지난 여름부터 사료나 간식을 챙겨주던 냥이가 잇었는데...   \n",
       "42378  놀다가 털썩 눕는행동 ? 4개월아가인데 사냥놀이하다가 갑자기 저렇게 털썩 누워요 \\...   \n",
       "42379  숨숨집, 캣타워 전혀 사용을 안해요. ㅜㅜ4개월 아깽이 입니다... 캣타워 숨숨집 ...   \n",
       "42380                                  외동묘인데 캣폴 괜찮을까요?[]   \n",
       "\n",
       "                                            comments_sum  \n",
       "0      NoneNoneNoneNoneNoneNoneNoneNoneNoneNoneNoneNo...  \n",
       "1      NoneNoneNoneNoneNoneNoneNoneNoneNoneNoneNoneNo...  \n",
       "2      NoneNoneNoneNoneNoneNoneNoneNoneNoneNoneNoneNo...  \n",
       "3      NoneNoneNoneNoneNoneNoneNoneNoneNoneNoneNoneNo...  \n",
       "4      ['자이목스 블루 써보세요 \\n좀 비싸지만 효과는 좋아요']['가격이 사악하긴하네욤...  \n",
       "...                                                  ...  \n",
       "42376  ['백합은 사람한테도 위험한 식물이기도 해요~']['저 타고양이카페에서 받은거에요!...  \n",
       "42377  ['공쥬님. 마니걱정되시는거 그맘알것같아요.\\n젤좋은건 포획하셔서 중성화해주시구.\\...  \n",
       "42378  ['나름 노는행동아닐까여^^\\n저희냥이도 그래여~^^;\\n전 저희냥이가 캣초딩아니고...  \n",
       "42379  ['아요~~이뻐라\\n좀 지나면 쓸거예요']['과연... 언제부터 쓸까요.. ㅜㅜ  ...  \n",
       "42380                                                NaN  \n",
       "\n",
       "[42381 rows x 2 columns]"
      ]
     },
     "execution_count": 196,
     "metadata": {},
     "output_type": "execute_result"
    }
   ],
   "source": [
    "df=pd.read_csv('카폐 크롤링 질문40000.csv')\n",
    "df"
   ]
  },
  {
   "cell_type": "code",
   "execution_count": 194,
   "metadata": {},
   "outputs": [
    {
     "data": {
      "text/html": [
       "<div>\n",
       "<style scoped>\n",
       "    .dataframe tbody tr th:only-of-type {\n",
       "        vertical-align: middle;\n",
       "    }\n",
       "\n",
       "    .dataframe tbody tr th {\n",
       "        vertical-align: top;\n",
       "    }\n",
       "\n",
       "    .dataframe thead th {\n",
       "        text-align: right;\n",
       "    }\n",
       "</style>\n",
       "<table border=\"1\" class=\"dataframe\">\n",
       "  <thead>\n",
       "    <tr style=\"text-align: right;\">\n",
       "      <th></th>\n",
       "      <th>0</th>\n",
       "    </tr>\n",
       "  </thead>\n",
       "  <tbody>\n",
       "    <tr>\n",
       "      <th>0</th>\n",
       "      <td>0.605103</td>\n",
       "    </tr>\n",
       "    <tr>\n",
       "      <th>1</th>\n",
       "      <td>0.380732</td>\n",
       "    </tr>\n",
       "    <tr>\n",
       "      <th>2</th>\n",
       "      <td>0.153810</td>\n",
       "    </tr>\n",
       "    <tr>\n",
       "      <th>3</th>\n",
       "      <td>0.443952</td>\n",
       "    </tr>\n",
       "    <tr>\n",
       "      <th>4</th>\n",
       "      <td>0.371014</td>\n",
       "    </tr>\n",
       "    <tr>\n",
       "      <th>...</th>\n",
       "      <td>...</td>\n",
       "    </tr>\n",
       "    <tr>\n",
       "      <th>42377</th>\n",
       "      <td>0.891357</td>\n",
       "    </tr>\n",
       "    <tr>\n",
       "      <th>42378</th>\n",
       "      <td>0.278893</td>\n",
       "    </tr>\n",
       "    <tr>\n",
       "      <th>42379</th>\n",
       "      <td>0.138038</td>\n",
       "    </tr>\n",
       "    <tr>\n",
       "      <th>42380</th>\n",
       "      <td>0.347263</td>\n",
       "    </tr>\n",
       "    <tr>\n",
       "      <th>42381</th>\n",
       "      <td>0.538273</td>\n",
       "    </tr>\n",
       "  </tbody>\n",
       "</table>\n",
       "<p>42382 rows × 1 columns</p>\n",
       "</div>"
      ],
      "text/plain": [
       "              0\n",
       "0      0.605103\n",
       "1      0.380732\n",
       "2      0.153810\n",
       "3      0.443952\n",
       "4      0.371014\n",
       "...         ...\n",
       "42377  0.891357\n",
       "42378  0.278893\n",
       "42379  0.138038\n",
       "42380  0.347263\n",
       "42381  0.538273\n",
       "\n",
       "[42382 rows x 1 columns]"
      ]
     },
     "execution_count": 194,
     "metadata": {},
     "output_type": "execute_result"
    }
   ],
   "source": [
    "sentiment"
   ]
  },
  {
   "cell_type": "code",
   "execution_count": 202,
   "metadata": {},
   "outputs": [
    {
     "data": {
      "text/html": [
       "<div>\n",
       "<style scoped>\n",
       "    .dataframe tbody tr th:only-of-type {\n",
       "        vertical-align: middle;\n",
       "    }\n",
       "\n",
       "    .dataframe tbody tr th {\n",
       "        vertical-align: top;\n",
       "    }\n",
       "\n",
       "    .dataframe thead th {\n",
       "        text-align: right;\n",
       "    }\n",
       "</style>\n",
       "<table border=\"1\" class=\"dataframe\">\n",
       "  <thead>\n",
       "    <tr style=\"text-align: right;\">\n",
       "      <th></th>\n",
       "      <th>df_sum</th>\n",
       "      <th>sentiment</th>\n",
       "    </tr>\n",
       "  </thead>\n",
       "  <tbody>\n",
       "    <tr>\n",
       "      <th>0</th>\n",
       "      <td>그루밍 할때 깨물깨물저희 둘째가 그루밍을 할때\\n혀로 빗고 털을 앙앙앙 깨물깨물 하...</td>\n",
       "      <td>0.605103</td>\n",
       "    </tr>\n",
       "    <tr>\n",
       "      <th>1</th>\n",
       "      <td>고양이 토 색좀 봐주세요 ㅠㅠ오늘 퇴근하고 털같은걸 토했길래 상황을 지켜봤는데 잘 ...</td>\n",
       "      <td>0.380732</td>\n",
       "    </tr>\n",
       "    <tr>\n",
       "      <th>2</th>\n",
       "      <td>다들 냥이들 보통 얼마나 자나요?저희 냥이가 길에서 살다가 약 2주 전부터 저희 집...</td>\n",
       "      <td>0.153810</td>\n",
       "    </tr>\n",
       "    <tr>\n",
       "      <th>3</th>\n",
       "      <td>제가 식중독 걸렸는데 애기 괜찮을까요 ㅜㅜ식중독은 처음 걸려보네요 ㅜㅜ\\n고양이랑 ...</td>\n",
       "      <td>0.443952</td>\n",
       "    </tr>\n",
       "    <tr>\n",
       "      <th>4</th>\n",
       "      <td>고양이 귀염증 잘아시는분ㅠ..5마리 집사입니당 그중 한마리 고양이 귀 염증이 심하길...</td>\n",
       "      <td>0.371014</td>\n",
       "    </tr>\n",
       "    <tr>\n",
       "      <th>...</th>\n",
       "      <td>...</td>\n",
       "      <td>...</td>\n",
       "    </tr>\n",
       "    <tr>\n",
       "      <th>42376</th>\n",
       "      <td>편백나무액 냥이들에게 괜찮을까요?캣초딩 두마리 집사에요^^\\n편백나무액을 구매했는데...</td>\n",
       "      <td>0.623979</td>\n",
       "    </tr>\n",
       "    <tr>\n",
       "      <th>42377</th>\n",
       "      <td>마당냥이 때문에 고민이 많습니다지난 여름부터 사료나 간식을 챙겨주던 냥이가 잇었는데...</td>\n",
       "      <td>0.891357</td>\n",
       "    </tr>\n",
       "    <tr>\n",
       "      <th>42378</th>\n",
       "      <td>놀다가 털썩 눕는행동 ? 4개월아가인데 사냥놀이하다가 갑자기 저렇게 털썩 누워요 \\...</td>\n",
       "      <td>0.278893</td>\n",
       "    </tr>\n",
       "    <tr>\n",
       "      <th>42379</th>\n",
       "      <td>숨숨집, 캣타워 전혀 사용을 안해요. ㅜㅜ4개월 아깽이 입니다... 캣타워 숨숨집 ...</td>\n",
       "      <td>0.138038</td>\n",
       "    </tr>\n",
       "    <tr>\n",
       "      <th>42380</th>\n",
       "      <td>외동묘인데 캣폴 괜찮을까요?[]</td>\n",
       "      <td>0.347263</td>\n",
       "    </tr>\n",
       "  </tbody>\n",
       "</table>\n",
       "<p>42381 rows × 2 columns</p>\n",
       "</div>"
      ],
      "text/plain": [
       "                                                  df_sum  sentiment\n",
       "0      그루밍 할때 깨물깨물저희 둘째가 그루밍을 할때\\n혀로 빗고 털을 앙앙앙 깨물깨물 하...   0.605103\n",
       "1      고양이 토 색좀 봐주세요 ㅠㅠ오늘 퇴근하고 털같은걸 토했길래 상황을 지켜봤는데 잘 ...   0.380732\n",
       "2      다들 냥이들 보통 얼마나 자나요?저희 냥이가 길에서 살다가 약 2주 전부터 저희 집...   0.153810\n",
       "3      제가 식중독 걸렸는데 애기 괜찮을까요 ㅜㅜ식중독은 처음 걸려보네요 ㅜㅜ\\n고양이랑 ...   0.443952\n",
       "4      고양이 귀염증 잘아시는분ㅠ..5마리 집사입니당 그중 한마리 고양이 귀 염증이 심하길...   0.371014\n",
       "...                                                  ...        ...\n",
       "42376  편백나무액 냥이들에게 괜찮을까요?캣초딩 두마리 집사에요^^\\n편백나무액을 구매했는데...   0.623979\n",
       "42377  마당냥이 때문에 고민이 많습니다지난 여름부터 사료나 간식을 챙겨주던 냥이가 잇었는데...   0.891357\n",
       "42378  놀다가 털썩 눕는행동 ? 4개월아가인데 사냥놀이하다가 갑자기 저렇게 털썩 누워요 \\...   0.278893\n",
       "42379  숨숨집, 캣타워 전혀 사용을 안해요. ㅜㅜ4개월 아깽이 입니다... 캣타워 숨숨집 ...   0.138038\n",
       "42380                                  외동묘인데 캣폴 괜찮을까요?[]   0.347263\n",
       "\n",
       "[42381 rows x 2 columns]"
      ]
     },
     "execution_count": 202,
     "metadata": {},
     "output_type": "execute_result"
    }
   ],
   "source": [
    "df.drop('comments_sum',axis=1,inplace=True)\n",
    "df"
   ]
  },
  {
   "cell_type": "code",
   "execution_count": 203,
   "metadata": {
    "scrolled": true
   },
   "outputs": [
    {
     "data": {
      "text/html": [
       "<div>\n",
       "<style scoped>\n",
       "    .dataframe tbody tr th:only-of-type {\n",
       "        vertical-align: middle;\n",
       "    }\n",
       "\n",
       "    .dataframe tbody tr th {\n",
       "        vertical-align: top;\n",
       "    }\n",
       "\n",
       "    .dataframe thead th {\n",
       "        text-align: right;\n",
       "    }\n",
       "</style>\n",
       "<table border=\"1\" class=\"dataframe\">\n",
       "  <thead>\n",
       "    <tr style=\"text-align: right;\">\n",
       "      <th></th>\n",
       "      <th>df_sum</th>\n",
       "      <th>sentiment</th>\n",
       "    </tr>\n",
       "  </thead>\n",
       "  <tbody>\n",
       "    <tr>\n",
       "      <th>0</th>\n",
       "      <td>그루밍 할때 깨물깨물저희 둘째가 그루밍을 할때\\n혀로 빗고 털을 앙앙앙 깨물깨물 하...</td>\n",
       "      <td>0.605103</td>\n",
       "    </tr>\n",
       "    <tr>\n",
       "      <th>1</th>\n",
       "      <td>고양이 토 색좀 봐주세요 ㅠㅠ오늘 퇴근하고 털같은걸 토했길래 상황을 지켜봤는데 잘 ...</td>\n",
       "      <td>0.380732</td>\n",
       "    </tr>\n",
       "    <tr>\n",
       "      <th>2</th>\n",
       "      <td>다들 냥이들 보통 얼마나 자나요?저희 냥이가 길에서 살다가 약 2주 전부터 저희 집...</td>\n",
       "      <td>0.153810</td>\n",
       "    </tr>\n",
       "    <tr>\n",
       "      <th>3</th>\n",
       "      <td>제가 식중독 걸렸는데 애기 괜찮을까요 ㅜㅜ식중독은 처음 걸려보네요 ㅜㅜ\\n고양이랑 ...</td>\n",
       "      <td>0.443952</td>\n",
       "    </tr>\n",
       "    <tr>\n",
       "      <th>4</th>\n",
       "      <td>고양이 귀염증 잘아시는분ㅠ..5마리 집사입니당 그중 한마리 고양이 귀 염증이 심하길...</td>\n",
       "      <td>0.371014</td>\n",
       "    </tr>\n",
       "    <tr>\n",
       "      <th>...</th>\n",
       "      <td>...</td>\n",
       "      <td>...</td>\n",
       "    </tr>\n",
       "    <tr>\n",
       "      <th>42376</th>\n",
       "      <td>편백나무액 냥이들에게 괜찮을까요?캣초딩 두마리 집사에요^^\\n편백나무액을 구매했는데...</td>\n",
       "      <td>0.623979</td>\n",
       "    </tr>\n",
       "    <tr>\n",
       "      <th>42377</th>\n",
       "      <td>마당냥이 때문에 고민이 많습니다지난 여름부터 사료나 간식을 챙겨주던 냥이가 잇었는데...</td>\n",
       "      <td>0.891357</td>\n",
       "    </tr>\n",
       "    <tr>\n",
       "      <th>42378</th>\n",
       "      <td>놀다가 털썩 눕는행동 ? 4개월아가인데 사냥놀이하다가 갑자기 저렇게 털썩 누워요 \\...</td>\n",
       "      <td>0.278893</td>\n",
       "    </tr>\n",
       "    <tr>\n",
       "      <th>42379</th>\n",
       "      <td>숨숨집, 캣타워 전혀 사용을 안해요. ㅜㅜ4개월 아깽이 입니다... 캣타워 숨숨집 ...</td>\n",
       "      <td>0.138038</td>\n",
       "    </tr>\n",
       "    <tr>\n",
       "      <th>42380</th>\n",
       "      <td>외동묘인데 캣폴 괜찮을까요?[]</td>\n",
       "      <td>0.347263</td>\n",
       "    </tr>\n",
       "  </tbody>\n",
       "</table>\n",
       "<p>42381 rows × 2 columns</p>\n",
       "</div>"
      ],
      "text/plain": [
       "                                                  df_sum  sentiment\n",
       "0      그루밍 할때 깨물깨물저희 둘째가 그루밍을 할때\\n혀로 빗고 털을 앙앙앙 깨물깨물 하...   0.605103\n",
       "1      고양이 토 색좀 봐주세요 ㅠㅠ오늘 퇴근하고 털같은걸 토했길래 상황을 지켜봤는데 잘 ...   0.380732\n",
       "2      다들 냥이들 보통 얼마나 자나요?저희 냥이가 길에서 살다가 약 2주 전부터 저희 집...   0.153810\n",
       "3      제가 식중독 걸렸는데 애기 괜찮을까요 ㅜㅜ식중독은 처음 걸려보네요 ㅜㅜ\\n고양이랑 ...   0.443952\n",
       "4      고양이 귀염증 잘아시는분ㅠ..5마리 집사입니당 그중 한마리 고양이 귀 염증이 심하길...   0.371014\n",
       "...                                                  ...        ...\n",
       "42376  편백나무액 냥이들에게 괜찮을까요?캣초딩 두마리 집사에요^^\\n편백나무액을 구매했는데...   0.623979\n",
       "42377  마당냥이 때문에 고민이 많습니다지난 여름부터 사료나 간식을 챙겨주던 냥이가 잇었는데...   0.891357\n",
       "42378  놀다가 털썩 눕는행동 ? 4개월아가인데 사냥놀이하다가 갑자기 저렇게 털썩 누워요 \\...   0.278893\n",
       "42379  숨숨집, 캣타워 전혀 사용을 안해요. ㅜㅜ4개월 아깽이 입니다... 캣타워 숨숨집 ...   0.138038\n",
       "42380                                  외동묘인데 캣폴 괜찮을까요?[]   0.347263\n",
       "\n",
       "[42381 rows x 2 columns]"
      ]
     },
     "execution_count": 203,
     "metadata": {},
     "output_type": "execute_result"
    }
   ],
   "source": [
    "df['sentiment']=sentiment\n",
    "df"
   ]
  },
  {
   "cell_type": "code",
   "execution_count": 190,
   "metadata": {},
   "outputs": [
    {
     "data": {
      "text/plain": [
       "0.3560014251875655"
      ]
     },
     "execution_count": 190,
     "metadata": {},
     "output_type": "execute_result"
    }
   ],
   "source": [
    "df.sentiment.mean()"
   ]
  },
  {
   "cell_type": "code",
   "execution_count": null,
   "metadata": {},
   "outputs": [],
   "source": []
  }
 ],
 "metadata": {
  "kernelspec": {
   "display_name": "Python 3",
   "language": "python",
   "name": "python3"
  },
  "language_info": {
   "codemirror_mode": {
    "name": "ipython",
    "version": 3
   },
   "file_extension": ".py",
   "mimetype": "text/x-python",
   "name": "python",
   "nbconvert_exporter": "python",
   "pygments_lexer": "ipython3",
   "version": "3.8.5"
  }
 },
 "nbformat": 4,
 "nbformat_minor": 4
}
